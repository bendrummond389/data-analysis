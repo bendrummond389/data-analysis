{
 "cells": [
  {
   "cell_type": "markdown",
   "metadata": {},
   "source": [
    "### Imports"
   ]
  },
  {
   "cell_type": "code",
   "execution_count": 1,
   "metadata": {},
   "outputs": [],
   "source": [
    "import logging\n",
    "import sys\n",
    "import os\n",
    "import pandas as pd\n",
    "from sklearn.feature_selection import mutual_info_regression\n",
    "from sklearn.preprocessing import OneHotEncoder\n",
    "from statsmodels.stats.outliers_influence import variance_inflation_factor\n",
    "from sklearn.linear_model import LinearRegression\n",
    "from sklearn.model_selection import train_test_split\n",
    "from sklearn.metrics import mean_squared_error, r2_score\n",
    "\n",
    "\n",
    "# Add the parent directory to the path so we can import the modules\n",
    "# note that in /notebooks, use sys.path.append(os.path.abspath(\"..\"))\n",
    "sys.path.append(os.path.abspath(\"../..\"))\n",
    "\n",
    "from scripts.database import get_session, load_data_to_db\n",
    "from scripts.utils import load_config, setup_logging\n",
    "from models import CarPriceDataset\n"
   ]
  },
  {
   "cell_type": "markdown",
   "metadata": {},
   "source": [
    "### Config and Logging Setup"
   ]
  },
  {
   "cell_type": "code",
   "execution_count": 2,
   "metadata": {},
   "outputs": [
    {
     "name": "stderr",
     "output_type": "stream",
     "text": [
      "ERROR:root:Failed to load config or setup logging: load_config() takes 0 positional arguments but 1 was given\n"
     ]
    },
    {
     "ename": "TypeError",
     "evalue": "load_config() takes 0 positional arguments but 1 was given",
     "output_type": "error",
     "traceback": [
      "\u001b[0;31m---------------------------------------------------------------------------\u001b[0m",
      "\u001b[0;31mTypeError\u001b[0m                                 Traceback (most recent call last)",
      "Cell \u001b[0;32mIn[2], line 2\u001b[0m\n\u001b[1;32m      1\u001b[0m \u001b[38;5;28;01mtry\u001b[39;00m:\n\u001b[0;32m----> 2\u001b[0m     config \u001b[38;5;241m=\u001b[39m \u001b[43mload_config\u001b[49m\u001b[43m(\u001b[49m\u001b[38;5;124;43m'\u001b[39;49m\u001b[38;5;124;43m../config/config.yaml\u001b[39;49m\u001b[38;5;124;43m'\u001b[39;49m\u001b[43m)\u001b[49m\n\u001b[1;32m      3\u001b[0m     setup_logging(config[\u001b[38;5;124m'\u001b[39m\u001b[38;5;124mpaths\u001b[39m\u001b[38;5;124m'\u001b[39m][\u001b[38;5;124m'\u001b[39m\u001b[38;5;124mlog_path\u001b[39m\u001b[38;5;124m'\u001b[39m])\n\u001b[1;32m      4\u001b[0m     logging\u001b[38;5;241m.\u001b[39minfo(\u001b[38;5;124m\"\u001b[39m\u001b[38;5;124mStarting the data analysis project.\u001b[39m\u001b[38;5;124m\"\u001b[39m)\n",
      "\u001b[0;31mTypeError\u001b[0m: load_config() takes 0 positional arguments but 1 was given"
     ]
    }
   ],
   "source": [
    "try:\n",
    "    config = load_config('../config/config.yaml')\n",
    "    setup_logging(config['paths']['log_path'])\n",
    "    logging.info(\"Starting the data analysis project.\")\n",
    "except Exception as e:\n",
    "    logging.error(f\"Failed to load config or setup logging: {e}\")\n",
    "    raise"
   ]
  },
  {
   "cell_type": "markdown",
   "metadata": {},
   "source": [
    "### Database Session"
   ]
  },
  {
   "cell_type": "code",
   "execution_count": null,
   "metadata": {},
   "outputs": [
    {
     "name": "stderr",
     "output_type": "stream",
     "text": [
      "INFO:root:Database session created successfully.\n",
      "Database session created successfully.\n"
     ]
    }
   ],
   "source": [
    "try:\n",
    "    session = get_session()\n",
    "    logging.info(\"Database session created successfully.\")\n",
    "except Exception as e:\n",
    "    logging.error(f\"Failed to create database session: {e}\")\n",
    "    raise"
   ]
  },
  {
   "cell_type": "markdown",
   "metadata": {},
   "source": [
    "### Query Car Price Data"
   ]
  },
  {
   "cell_type": "code",
   "execution_count": null,
   "metadata": {},
   "outputs": [
    {
     "name": "stdout",
     "output_type": "stream",
     "text": [
      "  fuel_type       brand  year  mileage  owner_count   model  engine_size  \\\n",
      "0    Diesel         Kia  2020   289944            5     Rio          4.2   \n",
      "1    Hybrid   Chevrolet  2012     5356            3  Malibu          2.0   \n",
      "2    Diesel    Mercedes  2020   231440            2     GLA          4.2   \n",
      "3  Electric        Audi  2023   160971            1      Q5          2.0   \n",
      "4    Hybrid  Volkswagen  2003   286618            3    Golf          2.6   \n",
      "\n",
      "     transmission  doors  price  \n",
      "0          Manual      3   8501  \n",
      "1       Automatic      2  12092  \n",
      "2       Automatic      4  11171  \n",
      "3          Manual      2  11780  \n",
      "4  Semi-Automatic      3   2867  \n"
     ]
    }
   ],
   "source": [
    "try:\n",
    "    car_price_data = session.query(CarPriceDataset).all()\n",
    "    data = [car.__dict__ for car in car_price_data]\n",
    "    for item in data:\n",
    "        item.pop('_sa_instance_state', None)\n",
    "    \n",
    "    car_price_df = pd.DataFrame(data)\n",
    "    print(car_price_df.head())\n",
    "except Exception as e:\n",
    "    logging.error(f\"Failed to query car price data: {e}\")\n",
    "    raise\n"
   ]
  },
  {
   "cell_type": "markdown",
   "metadata": {},
   "source": [
    "### Feature Engineering and Mutual Information"
   ]
  },
  {
   "cell_type": "code",
   "execution_count": null,
   "metadata": {},
   "outputs": [
    {
     "name": "stdout",
     "output_type": "stream",
     "text": [
      "                        Feature  Mutual Information\n",
      "0                          year        7.936126e-02\n",
      "1                       mileage        6.319704e-02\n",
      "4                         doors        6.193228e-02\n",
      "5            fuel_type_Electric        5.695204e-02\n",
      "3                   engine_size        4.301874e-02\n",
      "45             brand_Volkswagen        3.341848e-02\n",
      "6              fuel_type_Hybrid        3.323307e-02\n",
      "24                   model_Golf        2.222222e-02\n",
      "37                    brand_BMW        2.107280e-02\n",
      "38              brand_Chevrolet        1.432677e-02\n",
      "28                 model_Passat        1.111111e-02\n",
      "10                     model_A4        1.111111e-02\n",
      "12                model_C-Class        1.111111e-02\n",
      "36                     model_X5        1.111111e-02\n",
      "18                model_Elantra        1.111111e-02\n",
      "19                model_Equinox        1.111111e-02\n",
      "29                     model_Q5        1.111111e-02\n",
      "9                      model_A3        1.111111e-02\n",
      "14                  model_Camry        1.111111e-02\n",
      "31                    model_Rio        1.111111e-02\n",
      "25                 model_Impala        2.220446e-16\n",
      "35                 model_Tucson        2.220446e-16\n",
      "33               model_Sportage        2.220446e-16\n",
      "8                model_5 Series        2.220446e-16\n",
      "20               model_Explorer        2.220446e-16\n",
      "16                model_Corolla        2.220446e-16\n",
      "11                 model_Accord        2.220446e-16\n",
      "7              fuel_type_Petrol        0.000000e+00\n",
      "13                   model_CR-V        0.000000e+00\n",
      "46          transmission_Manual        0.000000e+00\n",
      "2                   owner_count        0.000000e+00\n",
      "44                 brand_Toyota        0.000000e+00\n",
      "43               brand_Mercedes        0.000000e+00\n",
      "42                    brand_Kia        0.000000e+00\n",
      "41                brand_Hyundai        0.000000e+00\n",
      "40                  brand_Honda        0.000000e+00\n",
      "39                   brand_Ford        0.000000e+00\n",
      "15                  model_Civic        0.000000e+00\n",
      "23                    model_GLA        0.000000e+00\n",
      "34                 model_Tiguan        0.000000e+00\n",
      "17                model_E-Class        0.000000e+00\n",
      "32                 model_Sonata        0.000000e+00\n",
      "30                   model_RAV4        0.000000e+00\n",
      "21                 model_Fiesta        0.000000e+00\n",
      "22                  model_Focus        0.000000e+00\n",
      "27                 model_Optima        0.000000e+00\n",
      "26                 model_Malibu        0.000000e+00\n",
      "47  transmission_Semi-Automatic        0.000000e+00\n"
     ]
    }
   ],
   "source": [
    "# One-hot encode categorical variables\n",
    "categorical_cols = ['fuel_type', 'model', 'brand', 'transmission']\n",
    "encoder = OneHotEncoder(sparse_output=False, drop='first')\n",
    "encoded_categorical = encoder.fit_transform(car_price_df[categorical_cols])\n",
    "\n",
    "# Create DataFrame for encoded categorical variables\n",
    "encoded_categorical_df = pd.DataFrame(encoded_categorical, columns=encoder.get_feature_names_out(categorical_cols))\n",
    "\n",
    "# Combine encoded categorical and numerical variables\n",
    "numerical_cols = car_price_df.drop(columns=categorical_cols + ['price'])\n",
    "X_encoded = pd.concat([numerical_cols.reset_index(drop=True), encoded_categorical_df.reset_index(drop=True)], axis=1)\n",
    "\n",
    "# Target variable\n",
    "y = car_price_df['price']\n",
    "\n",
    "# Calculate mutual information\n",
    "mi = mutual_info_regression(X_encoded, y)\n",
    "\n",
    "# Create and display mutual information DataFrame\n",
    "mi_df = pd.DataFrame({'Feature': X_encoded.columns, 'Mutual Information': mi})\n",
    "mi_df = mi_df.sort_values(by='Mutual Information', ascending=False)\n",
    "print(mi_df)"
   ]
  },
  {
   "cell_type": "markdown",
   "metadata": {},
   "source": [
    "### Create New Dataset"
   ]
  },
  {
   "cell_type": "code",
   "execution_count": null,
   "metadata": {},
   "outputs": [
    {
     "name": "stdout",
     "output_type": "stream",
     "text": [
      "   mileage  doors  engine_size fuel_type\n",
      "0   289944      3          4.2    Diesel\n",
      "1     5356      2          2.0    Hybrid\n",
      "2   231440      4          4.2    Diesel\n",
      "3   160971      2          2.0  Electric\n",
      "4   286618      3          2.6    Hybrid\n"
     ]
    }
   ],
   "source": [
    "new_dataset = car_price_df[['mileage', 'doors', 'engine_size', 'fuel_type']]\n",
    "print(new_dataset.head())"
   ]
  },
  {
   "cell_type": "markdown",
   "metadata": {},
   "source": [
    "### Variance Inflation Factor (VIF) Calculation"
   ]
  },
  {
   "cell_type": "code",
   "execution_count": null,
   "metadata": {},
   "outputs": [
    {
     "name": "stdout",
     "output_type": "stream",
     "text": [
      "              Feature       VIF\n",
      "0             mileage  3.221509\n",
      "1               doors  6.767236\n",
      "2         engine_size  6.422379\n",
      "3  fuel_type_Electric  2.349719\n",
      "4    fuel_type_Hybrid  2.100338\n",
      "5    fuel_type_Petrol  1.733157\n"
     ]
    }
   ],
   "source": [
    "# One-hot encode 'fuel_type' in the new dataset\n",
    "encoded_fuel_type = encoder.fit_transform(new_dataset[['fuel_type']])\n",
    "encoded_fuel_type_df = pd.DataFrame(encoded_fuel_type, columns=encoder.get_feature_names_out(['fuel_type']))\n",
    "\n",
    "# Combine numerical and encoded categorical features\n",
    "X_new = pd.concat([new_dataset.drop(columns=['fuel_type'])\\\n",
    "    .reset_index(drop=True), encoded_fuel_type_df\\\n",
    "    .reset_index(drop=True)], axis=1)\n",
    "\n",
    "# Calculate VIF for each feature\n",
    "vif_data_new = pd.DataFrame()\n",
    "vif_data_new[\"Feature\"] = X_new.columns\n",
    "vif_data_new[\"VIF\"] = [variance_inflation_factor(X_new.values, i) for i in range(len(X_new.columns))]\n",
    "\n",
    "print(vif_data_new)"
   ]
  },
  {
   "cell_type": "markdown",
   "metadata": {},
   "source": [
    "### Linear Regression Model"
   ]
  },
  {
   "cell_type": "code",
   "execution_count": null,
   "metadata": {},
   "outputs": [
    {
     "name": "stdout",
     "output_type": "stream",
     "text": [
      "Mean Squared Error: 386239.2338095221\n",
      "R^2 Score: 0.9635099717124912\n"
     ]
    }
   ],
   "source": [
    "# Split data into training and testing sets\n",
    "X_train, X_test, y_train, y_test = train_test_split(X_encoded, y, test_size=0.2, random_state=42)\n",
    "\n",
    "# Train linear regression model\n",
    "model = LinearRegression()\n",
    "model.fit(X_train, y_train)\n",
    "\n",
    "# Make predictions\n",
    "y_pred = model.predict(X_test)\n",
    "\n",
    "# Evaluate model\n",
    "mse = mean_squared_error(y_test, y_pred)\n",
    "r2 = r2_score(y_test, y_pred)\n",
    "\n",
    "print(f\"Mean Squared Error: {mse}\")\n",
    "print(f\"R^2 Score: {r2}\")"
   ]
  }
 ],
 "metadata": {
  "kernelspec": {
   "display_name": "Python (venv)",
   "language": "python",
   "name": "venv"
  },
  "language_info": {
   "codemirror_mode": {
    "name": "ipython",
    "version": 3
   },
   "file_extension": ".py",
   "mimetype": "text/x-python",
   "name": "python",
   "nbconvert_exporter": "python",
   "pygments_lexer": "ipython3",
   "version": "3.13.0"
  }
 },
 "nbformat": 4,
 "nbformat_minor": 2
}
