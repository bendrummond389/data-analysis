{
 "cells": [
  {
   "cell_type": "markdown",
   "metadata": {},
   "source": [
    "## Notes\n",
    "\n",
    "We are likely overfitting here due to low sample size. For now, we keep this example for future reference as the procedure is valid."
   ]
  },
  {
   "cell_type": "markdown",
   "metadata": {},
   "source": [
    "### Imports"
   ]
  },
  {
   "cell_type": "code",
   "execution_count": null,
   "metadata": {},
   "outputs": [],
   "source": [
    "import logging\n",
    "import sys\n",
    "import os\n",
    "import pandas as pd\n",
    "import numpy as np\n",
    "from sklearn.model_selection import train_test_split\n",
    "from sklearn.feature_extraction.text import TfidfVectorizer\n",
    "from sklearn.ensemble import RandomForestClassifier\n",
    "from sklearn.metrics import classification_report, accuracy_score\n",
    "\n",
    "sys.path.append(os.path.abspath(\"../..\"))\n",
    "\n",
    "from scripts.database import get_session, load_data_to_db\n",
    "from scripts.utils import load_config, setup_logging\n",
    "from models import NetflixDataset\n"
   ]
  },
  {
   "cell_type": "markdown",
   "metadata": {},
   "source": [
    "### Config and Logging Setup"
   ]
  },
  {
   "cell_type": "code",
   "execution_count": 2,
   "metadata": {},
   "outputs": [
    {
     "name": "stderr",
     "output_type": "stream",
     "text": [
      "INFO:root:Starting the data analysis project.\n",
      "Starting the data analysis project.\n"
     ]
    }
   ],
   "source": [
    "try:\n",
    "    config = load_config()\n",
    "    setup_logging(config['paths']['log_path'])\n",
    "    logging.info(\"Starting the data analysis project.\")\n",
    "except Exception as e:\n",
    "    logging.error(f\"Failed to load config or setup logging: {e}\")\n",
    "    raise"
   ]
  },
  {
   "cell_type": "markdown",
   "metadata": {},
   "source": [
    "### Database Session"
   ]
  },
  {
   "cell_type": "code",
   "execution_count": 3,
   "metadata": {},
   "outputs": [
    {
     "name": "stderr",
     "output_type": "stream",
     "text": [
      "INFO:root:Database session created successfully.\n",
      "Database session created successfully.\n"
     ]
    }
   ],
   "source": [
    "try:\n",
    "    session = get_session()\n",
    "    logging.info(\"Database session created successfully.\")\n",
    "except Exception as e:\n",
    "    logging.error(f\"Failed to create database session: {e}\")\n",
    "    raise"
   ]
  },
  {
   "cell_type": "markdown",
   "metadata": {},
   "source": [
    "### Query netflix Data"
   ]
  },
  {
   "cell_type": "code",
   "execution_count": 4,
   "metadata": {},
   "outputs": [
    {
     "name": "stdout",
     "output_type": "stream",
     "text": [
      "                   title     type         director        country  \\\n",
      "0   Dick Johnson Is Dead    Movie  Kirsten Johnson  United States   \n",
      "1          Blood & Water  TV Show                    South Africa   \n",
      "2              Ganglands  TV Show  Julien Leclercq                  \n",
      "3  Jailbirds New Orleans  TV Show                                   \n",
      "4           Kota Factory  TV Show                           India   \n",
      "\n",
      "   release_year   duration                                        description  \\\n",
      "0          2020     90 min  As her father nears the end of his life, filmm...   \n",
      "1          2021  2 Seasons  After crossing paths at a party, a Cape Town t...   \n",
      "2          2021   1 Season  To protect his family from a powerful drug lor...   \n",
      "3          2021   1 Season  Feuds, flirtations and toilet talk go down amo...   \n",
      "4          2021  2 Seasons  In a city of coaching centers known to train I...   \n",
      "\n",
      "                                                cast show_id  \\\n",
      "0                                                         s1   \n",
      "1  Ama Qamata, Khosi Ngema, Gail Mabalane, Thaban...      s2   \n",
      "2  Sami Bouajila, Tracy Gotoas, Samuel Jouy, Nabi...      s3   \n",
      "3                                                         s4   \n",
      "4  Mayur More, Jitendra Kumar, Ranjan Raj, Alam K...      s5   \n",
      "\n",
      "           date_added rating  \\\n",
      "0  September 25, 2021  PG-13   \n",
      "1  September 24, 2021  TV-MA   \n",
      "2  September 24, 2021  TV-MA   \n",
      "3  September 24, 2021  TV-MA   \n",
      "4  September 24, 2021  TV-MA   \n",
      "\n",
      "                                           listed_in  \\\n",
      "0                                      Documentaries   \n",
      "1    International TV Shows, TV Dramas, TV Mysteries   \n",
      "2  Crime TV Shows, International TV Shows, TV Act...   \n",
      "3                             Docuseries, Reality TV   \n",
      "4  International TV Shows, Romantic TV Shows, TV ...   \n",
      "\n",
      "                                                text  \n",
      "0  Dick Johnson Is Dead  United States Documentar...  \n",
      "1  Blood & Water Ama Qamata, Khosi Ngema, Gail Ma...  \n",
      "2  Ganglands Sami Bouajila, Tracy Gotoas, Samuel ...  \n",
      "3  Jailbirds New Orleans   Docuseries, Reality TV...  \n",
      "4  Kota Factory Mayur More, Jitendra Kumar, Ranja...  \n"
     ]
    }
   ],
   "source": [
    "try:\n",
    "    show_data = session.query(NetflixDataset).all()\n",
    "    data = [show.__dict__ for show in show_data]\n",
    "    for item in data:\n",
    "        item.pop('_sa_instance_state', None)\n",
    "    \n",
    "    show_df = pd.DataFrame(data)\n",
    "    print(show_df.head())\n",
    "except Exception as e:\n",
    "    logging.error(f\"Failed to query show data: {e}\")\n",
    "    raise\n"
   ]
  },
  {
   "cell_type": "markdown",
   "metadata": {},
   "source": [
    "### Feature Engineering and Mutual Information"
   ]
  },
  {
   "cell_type": "code",
   "execution_count": 5,
   "metadata": {},
   "outputs": [
    {
     "name": "stdout",
     "output_type": "stream",
     "text": [
      "Accuracy: 0.9977298524404086\n",
      "\n",
      "Classification Report:\n",
      "               precision    recall  f1-score   support\n",
      "\n",
      "       Movie       1.00      1.00      1.00      1203\n",
      "     TV Show       1.00      1.00      1.00       559\n",
      "\n",
      "    accuracy                           1.00      1762\n",
      "   macro avg       1.00      1.00      1.00      1762\n",
      "weighted avg       1.00      1.00      1.00      1762\n",
      "\n"
     ]
    }
   ],
   "source": [
    "X = show_df['text']\n",
    "y = show_df['type']\n",
    "\n",
    "# Text vectorization\n",
    "vectorizer = TfidfVectorizer(max_features=5000)\n",
    "X_vectorized = vectorizer.fit_transform(X)\n",
    "\n",
    "# Split dataset\n",
    "X_train, X_test, y_train, y_test = train_test_split(X_vectorized, y, test_size=0.2, random_state=42)\n",
    "\n",
    "# Train classifier\n",
    "clf = RandomForestClassifier(random_state=42)\n",
    "clf.fit(X_train, y_train)\n",
    "\n",
    "# Predict\n",
    "y_pred = clf.predict(X_test)\n",
    "\n",
    "# Evaluation\n",
    "print(\"Accuracy:\", accuracy_score(y_test, y_pred))\n",
    "print(\"\\nClassification Report:\\n\", classification_report(y_test, y_pred))"
   ]
  }
 ],
 "metadata": {
  "kernelspec": {
   "display_name": "Python (venv)",
   "language": "python",
   "name": "venv"
  },
  "language_info": {
   "codemirror_mode": {
    "name": "ipython",
    "version": 3
   },
   "file_extension": ".py",
   "mimetype": "text/x-python",
   "name": "python",
   "nbconvert_exporter": "python",
   "pygments_lexer": "ipython3",
   "version": "3.13.0"
  }
 },
 "nbformat": 4,
 "nbformat_minor": 2
}
