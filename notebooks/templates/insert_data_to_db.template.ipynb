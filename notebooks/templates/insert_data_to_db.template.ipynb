{
 "cells": [
  {
   "cell_type": "markdown",
   "metadata": {},
   "source": [
    "## Set up"
   ]
  },
  {
   "cell_type": "markdown",
   "metadata": {},
   "source": [
    "### Imports"
   ]
  },
  {
   "cell_type": "code",
   "execution_count": 3,
   "metadata": {},
   "outputs": [],
   "source": [
    "import logging\n",
    "import sys\n",
    "import os\n",
    "import pandas as pd\n",
    "\n",
    "\n",
    "# Add the parent directory to the path so we can import the modules\n",
    "# note that in /notebooks, use sys.path.append(os.path.abspath(\"..\"))\n",
    "sys.path.append(os.path.abspath(\"../..\"))\n",
    "\n",
    "from scripts.database import get_session, load_data_to_db\n",
    "from scripts.data_cleaning import clean_data\n",
    "from scripts.utils import load_config, setup_logging\n",
    "from models import MortalityRate2014, ACS2017CountyData\n"
   ]
  },
  {
   "cell_type": "markdown",
   "metadata": {},
   "source": [
    "### Config"
   ]
  },
  {
   "cell_type": "code",
   "execution_count": null,
   "metadata": {},
   "outputs": [
    {
     "name": "stderr",
     "output_type": "stream",
     "text": [
      "INFO:root:Starting the data analysis project.\n",
      "Starting the data analysis project.\n"
     ]
    }
   ],
   "source": [
    "try:\n",
    "    config = load_config()\n",
    "    setup_logging(config['paths']['log_path'])\n",
    "    logging.info(\"Starting the data analysis project.\")\n",
    "except Exception as e:\n",
    "    logging.error(f\"Failed to load config or setup logging: {e}\")\n",
    "    raise"
   ]
  },
  {
   "cell_type": "markdown",
   "metadata": {},
   "source": [
    "### Create session"
   ]
  },
  {
   "cell_type": "code",
   "execution_count": 5,
   "metadata": {},
   "outputs": [
    {
     "name": "stderr",
     "output_type": "stream",
     "text": [
      "INFO:root:Database session created successfully.\n",
      "Database session created successfully.\n"
     ]
    }
   ],
   "source": [
    "try:\n",
    "    session = get_session()\n",
    "    logging.info(\"Database session created successfully.\")\n",
    "except Exception as e:\n",
    "    logging.error(f\"Failed to create database session: {e}\")\n",
    "    raise"
   ]
  },
  {
   "cell_type": "markdown",
   "metadata": {},
   "source": [
    "### Fetch data"
   ]
  },
  {
   "cell_type": "code",
   "execution_count": null,
   "metadata": {},
   "outputs": [
    {
     "name": "stderr",
     "output_type": "stream",
     "text": [
      "INFO:scripts.data_cleaning:Data cleaned. Shape: (8807, 12)\n",
      "Data cleaned. Shape: (8807, 12)\n"
     ]
    },
    {
     "name": "stdout",
     "output_type": "stream",
     "text": [
      "  show_id     type                  title         director  \\\n",
      "0      s1    Movie   Dick Johnson Is Dead  Kirsten Johnson   \n",
      "1      s2  TV Show          Blood & Water                    \n",
      "2      s3  TV Show              Ganglands  Julien Leclercq   \n",
      "3      s4  TV Show  Jailbirds New Orleans                    \n",
      "4      s5  TV Show           Kota Factory                    \n",
      "\n",
      "                                                cast        country  \\\n",
      "0                                                     United States   \n",
      "1  Ama Qamata, Khosi Ngema, Gail Mabalane, Thaban...   South Africa   \n",
      "2  Sami Bouajila, Tracy Gotoas, Samuel Jouy, Nabi...                  \n",
      "3                                                                     \n",
      "4  Mayur More, Jitendra Kumar, Ranjan Raj, Alam K...          India   \n",
      "\n",
      "           date_added  release_year rating   duration  \\\n",
      "0  September 25, 2021          2020  PG-13     90 min   \n",
      "1  September 24, 2021          2021  TV-MA  2 Seasons   \n",
      "2  September 24, 2021          2021  TV-MA   1 Season   \n",
      "3  September 24, 2021          2021  TV-MA   1 Season   \n",
      "4  September 24, 2021          2021  TV-MA  2 Seasons   \n",
      "\n",
      "                                           listed_in  \\\n",
      "0                                      Documentaries   \n",
      "1    International TV Shows, TV Dramas, TV Mysteries   \n",
      "2  Crime TV Shows, International TV Shows, TV Act...   \n",
      "3                             Docuseries, Reality TV   \n",
      "4  International TV Shows, Romantic TV Shows, TV ...   \n",
      "\n",
      "                                         description  \\\n",
      "0  As her father nears the end of his life, filmm...   \n",
      "1  After crossing paths at a party, a Cape Town t...   \n",
      "2  To protect his family from a powerful drug lor...   \n",
      "3  Feuds, flirtations and toilet talk go down amo...   \n",
      "4  In a city of coaching centers known to train I...   \n",
      "\n",
      "                                                text  \n",
      "0  Dick Johnson Is Dead  United States Documentar...  \n",
      "1  Blood & Water Ama Qamata, Khosi Ngema, Gail Ma...  \n",
      "2  Ganglands Sami Bouajila, Tracy Gotoas, Samuel ...  \n",
      "3  Jailbirds New Orleans   Docuseries, Reality TV...  \n",
      "4  Kota Factory Mayur More, Jitendra Kumar, Ranja...  \n"
     ]
    }
   ],
   "source": [
    "netflix_df = pd.read_csv('../../data/raw/netflix_titles.csv')\n",
    "\n",
    "netflix_df.fillna(\"\", inplace=True)\n",
    "netflix_df['text'] = netflix_df['title'] + \" \" + netflix_df['cast'] + \" \" + netflix_df['country'] + \" \" + netflix_df['listed_in'] + \" \" + netflix_df['description']\n",
    "cleaned_data = clean_data(netflix_df)\n",
    "\n",
    "print(cleaned_data.head())"
   ]
  },
  {
   "cell_type": "markdown",
   "metadata": {},
   "source": [
    "### Load data to database"
   ]
  },
  {
   "cell_type": "code",
   "execution_count": null,
   "metadata": {},
   "outputs": [],
   "source": [
    "load_data_to_db(cleaned_data, table_name='netflix_dataset')"
   ]
  },
  {
   "cell_type": "markdown",
   "metadata": {},
   "source": [
    "### Exploration"
   ]
  }
 ],
 "metadata": {
  "kernelspec": {
   "display_name": "Python (venv)",
   "language": "python",
   "name": "venv"
  },
  "language_info": {
   "codemirror_mode": {
    "name": "ipython",
    "version": 3
   },
   "file_extension": ".py",
   "mimetype": "text/x-python",
   "name": "python",
   "nbconvert_exporter": "python",
   "pygments_lexer": "ipython3",
   "version": "3.13.0"
  }
 },
 "nbformat": 4,
 "nbformat_minor": 2
}
