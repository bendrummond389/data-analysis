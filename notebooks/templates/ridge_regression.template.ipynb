{
 "cells": [
  {
   "cell_type": "markdown",
   "metadata": {},
   "source": [
    "## Notes\n",
    "\n",
    "We are likely overfitting here due to low sample size. For now, we keep this example for future reference as the procedure is valid."
   ]
  },
  {
   "cell_type": "markdown",
   "metadata": {},
   "source": [
    "### Imports"
   ]
  },
  {
   "cell_type": "code",
   "execution_count": 3,
   "metadata": {},
   "outputs": [],
   "source": [
    "import logging\n",
    "import sys\n",
    "import os\n",
    "import pandas as pd\n",
    "import numpy as np\n",
    "from sklearn.feature_selection import mutual_info_regression\n",
    "from sklearn.preprocessing import OneHotEncoder, StandardScaler\n",
    "from statsmodels.stats.outliers_influence import variance_inflation_factor\n",
    "from sklearn.linear_model import Ridge, RidgeCV\n",
    "from sklearn.model_selection import train_test_split, GridSearchCV\n",
    "from sklearn.metrics import mean_squared_error, r2_score\n",
    "\n",
    "# Add the parent directory to the path so we can import the modules\n",
    "# note that in /notebooks, use sys.path.append(os.path.abspath(\"..\"))\n",
    "sys.path.append(os.path.abspath(\"../..\"))\n",
    "\n",
    "from scripts import load_config, setup_logging, get_session, load_data_to_db\n",
    "from models import CarPriceDataset\n"
   ]
  },
  {
   "cell_type": "markdown",
   "metadata": {},
   "source": [
    "### Config and Logging Setup"
   ]
  },
  {
   "cell_type": "code",
   "execution_count": 4,
   "metadata": {},
   "outputs": [
    {
     "name": "stderr",
     "output_type": "stream",
     "text": [
      "INFO:root:Starting the data analysis project.\n",
      "2025-02-22 17:15:17,532 - INFO - Starting the data analysis project.\n"
     ]
    }
   ],
   "source": [
    "try:\n",
    "    config = load_config()\n",
    "    setup_logging(config['paths']['log_path'])\n",
    "    logging.info(\"Starting the data analysis project.\")\n",
    "except Exception as e:\n",
    "    logging.error(f\"Failed to load config or setup logging: {e}\")\n",
    "    raise"
   ]
  },
  {
   "cell_type": "markdown",
   "metadata": {},
   "source": [
    "### Database Session"
   ]
  },
  {
   "cell_type": "code",
   "execution_count": 5,
   "metadata": {},
   "outputs": [
    {
     "name": "stderr",
     "output_type": "stream",
     "text": [
      "INFO:root:Database session created successfully.\n",
      "2025-02-22 17:15:17,583 - INFO - Database session created successfully.\n"
     ]
    }
   ],
   "source": [
    "try:\n",
    "    session = get_session()\n",
    "    logging.info(\"Database session created successfully.\")\n",
    "except Exception as e:\n",
    "    logging.error(f\"Failed to create database session: {e}\")\n",
    "    raise"
   ]
  },
  {
   "cell_type": "markdown",
   "metadata": {},
   "source": [
    "### Query Car Price Data"
   ]
  },
  {
   "cell_type": "code",
   "execution_count": 6,
   "metadata": {},
   "outputs": [
    {
     "name": "stdout",
     "output_type": "stream",
     "text": [
      "       brand  engine_size transmission  doors  price   model  year fuel_type  \\\n",
      "0       Audi          2.1       Manual      4   9704      Q5  2017    Petrol   \n",
      "1       Audi          2.0       Manual      4  10535      A3  2021  Electric   \n",
      "2        Kia          1.6       Manual      5   3774     Rio  2005    Petrol   \n",
      "3        BMW          3.1       Manual      2  10072      X5  2011    Petrol   \n",
      "4  Chevrolet          2.0    Automatic      2  12092  Malibu  2012    Hybrid   \n",
      "\n",
      "   mileage  owner_count  \n",
      "0    79782            1  \n",
      "1   193207            2  \n",
      "2   171257            1  \n",
      "3    21375            4  \n",
      "4     5356            3  \n"
     ]
    }
   ],
   "source": [
    "try:\n",
    "    car_price_data = session.query(CarPriceDataset).all()\n",
    "    data = [car.__dict__ for car in car_price_data]\n",
    "    for item in data:\n",
    "        item.pop('_sa_instance_state', None)\n",
    "    \n",
    "    car_price_df = pd.DataFrame(data)\n",
    "    print(car_price_df.head())\n",
    "except Exception as e:\n",
    "    logging.error(f\"Failed to query car price data: {e}\")\n",
    "    raise\n"
   ]
  },
  {
   "cell_type": "markdown",
   "metadata": {},
   "source": [
    "### Feature Engineering and Mutual Information"
   ]
  },
  {
   "cell_type": "code",
   "execution_count": 7,
   "metadata": {},
   "outputs": [
    {
     "name": "stdout",
     "output_type": "stream",
     "text": [
      "                       Feature  Mutual Information\n",
      "4                      car_age            0.097957\n",
      "7             fuel_type_Petrol            0.081093\n",
      "0                  engine_size            0.067667\n",
      "5           fuel_type_Electric            0.041760\n",
      "8          transmission_Manual            0.034774\n",
      "9  transmission_Semi-Automatic            0.002760\n",
      "1                        doors            0.000000\n",
      "2                      mileage            0.000000\n",
      "3                  owner_count            0.000000\n",
      "6             fuel_type_Hybrid            0.000000\n"
     ]
    }
   ],
   "source": [
    "# Group less frequent categories in 'model' and 'brand'\n",
    "model_counts = car_price_df['model'].value_counts()\n",
    "less_frequent_models = model_counts[model_counts < 10].index\n",
    "car_price_df['model'] = car_price_df['model'].apply(lambda x: 'Other' if x in less_frequent_models else x)\n",
    "\n",
    "brand_counts = car_price_df['brand'].value_counts()\n",
    "less_frequent_brands = brand_counts[brand_counts < 10].index\n",
    "car_price_df['brand'] = car_price_df['brand'].apply(lambda x: 'Other' if x in less_frequent_brands else x)\n",
    "\n",
    "# Create 'car_age' feature\n",
    "from datetime import datetime\n",
    "car_price_df['car_age'] = datetime.now().year - car_price_df['year']\n",
    "\n",
    "# One-hot encode categorical variables\n",
    "categorical_cols = ['fuel_type', 'model', 'brand', 'transmission']\n",
    "encoder = OneHotEncoder(sparse_output=False, drop='first')\n",
    "encoded_categorical = encoder.fit_transform(car_price_df[categorical_cols])\n",
    "\n",
    "# Create DataFrame for encoded categorical variables\n",
    "encoded_categorical_df = pd.DataFrame(encoded_categorical, columns=encoder.get_feature_names_out(categorical_cols))\n",
    "\n",
    "# Combine encoded categorical and numerical variables\n",
    "numerical_cols = car_price_df.drop(columns=categorical_cols + ['price', 'year'])\n",
    "X_encoded = pd.concat([numerical_cols.reset_index(drop=True), encoded_categorical_df.reset_index(drop=True)], axis=1)\n",
    "\n",
    "# Target variable\n",
    "y = car_price_df['price']\n",
    "\n",
    "# Calculate mutual information\n",
    "mi = mutual_info_regression(X_encoded, y)\n",
    "\n",
    "# Create and display mutual information DataFrame\n",
    "mi_df = pd.DataFrame({'Feature': X_encoded.columns, 'Mutual Information': mi})\n",
    "mi_df = mi_df.sort_values(by='Mutual Information', ascending=False)\n",
    "print(mi_df)"
   ]
  },
  {
   "cell_type": "markdown",
   "metadata": {},
   "source": [
    "### Variance Inflation Factor (VIF) Calculation"
   ]
  },
  {
   "cell_type": "code",
   "execution_count": 8,
   "metadata": {},
   "outputs": [
    {
     "name": "stdout",
     "output_type": "stream",
     "text": [
      "Constant columns: []\n",
      "                       Feature        VIF\n",
      "0                  engine_size  10.754249\n",
      "1                        doors   7.829674\n",
      "2                      mileage   5.383627\n",
      "3                  owner_count   6.342139\n",
      "4                      car_age  10.987574\n",
      "5           fuel_type_Electric   3.201536\n",
      "6             fuel_type_Hybrid   3.254450\n",
      "7             fuel_type_Petrol   3.649158\n",
      "8          transmission_Manual   2.832613\n",
      "9  transmission_Semi-Automatic   1.852904\n"
     ]
    }
   ],
   "source": [
    "# Check for constant numerical columns\n",
    "constant_columns = [col for col in numerical_cols.columns if car_price_df[col].nunique() == 1]\n",
    "print(\"Constant columns:\", constant_columns)\n",
    "\n",
    "# Drop constant columns if any\n",
    "X_encoded_reduced = X_encoded.drop(columns=constant_columns)\n",
    "\n",
    "# Calculate VIF for each feature\n",
    "vif_data = pd.DataFrame()\n",
    "vif_data[\"Feature\"] = X_encoded_reduced.columns\n",
    "vif_data[\"VIF\"] = [variance_inflation_factor(X_encoded_reduced.values, i) for i in range(len(X_encoded_reduced.columns))]\n",
    "\n",
    "print(vif_data)"
   ]
  },
  {
   "cell_type": "markdown",
   "metadata": {},
   "source": [
    "### Ridge Regression Model"
   ]
  },
  {
   "cell_type": "code",
   "execution_count": 9,
   "metadata": {},
   "outputs": [
    {
     "name": "stdout",
     "output_type": "stream",
     "text": [
      "Best alpha: 0.00021209508879201905\n",
      "Mean Squared Error: 0.0652019557374877\n",
      "R^2 Score: 0.9999999863417236\n"
     ]
    }
   ],
   "source": [
    "# Standardize the features\n",
    "scaler = StandardScaler()\n",
    "X_scaled = scaler.fit_transform(X_encoded_reduced)\n",
    "\n",
    "# Split data into training and testing sets\n",
    "X_train, X_test, y_train, y_test = train_test_split(X_scaled, y, test_size=0.2, random_state=42)\n",
    "\n",
    "# Define a range of alpha values for Ridge Regression\n",
    "alphas = np.logspace(-4, 4, 50)  # Test alpha values from 10^-4 to 10^4\n",
    "\n",
    "# Use RidgeCV to find the best alpha\n",
    "ridge_cv = RidgeCV(alphas=alphas, store_cv_results=True)\n",
    "ridge_cv.fit(X_train, y_train)\n",
    "\n",
    "# Best alpha value\n",
    "print(f\"Best alpha: {ridge_cv.alpha_}\")\n",
    "\n",
    "# Train Ridge Regression model with the best alpha\n",
    "ridge_model = Ridge(alpha=ridge_cv.alpha_)\n",
    "ridge_model.fit(X_train, y_train)\n",
    "\n",
    "# Make predictions\n",
    "y_pred = ridge_model.predict(X_test)\n",
    "\n",
    "# Evaluate model\n",
    "mse = mean_squared_error(y_test, y_pred)\n",
    "r2 = r2_score(y_test, y_pred)\n",
    "\n",
    "print(f\"Mean Squared Error: {mse}\")\n",
    "print(f\"R^2 Score: {r2}\")"
   ]
  },
  {
   "cell_type": "markdown",
   "metadata": {},
   "source": [
    "### Debugging and Model Validation"
   ]
  },
  {
   "cell_type": "code",
   "execution_count": 10,
   "metadata": {},
   "outputs": [
    {
     "name": "stdout",
     "output_type": "stream",
     "text": [
      "Shape of X_encoded_reduced: (30, 10)\n",
      "Shape of y: (30,)\n",
      "count       30.000000\n",
      "mean      8558.100000\n",
      "std       2639.424158\n",
      "min       2867.000000\n",
      "25%       6733.500000\n",
      "50%       9238.500000\n",
      "75%      10617.500000\n",
      "max      13374.000000\n",
      "Name: price, dtype: float64\n",
      "First few rows of X_encoded_reduced:\n",
      "   engine_size  doors  mileage  owner_count  car_age  fuel_type_Electric  \\\n",
      "0          2.1      4    79782            1        8                 0.0   \n",
      "1          2.0      4   193207            2        4                 1.0   \n",
      "2          1.6      5   171257            1       20                 0.0   \n",
      "3          3.1      2    21375            4       14                 0.0   \n",
      "4          2.0      2     5356            3       13                 0.0   \n",
      "\n",
      "   fuel_type_Hybrid  fuel_type_Petrol  transmission_Manual  \\\n",
      "0               0.0               1.0                  1.0   \n",
      "1               0.0               0.0                  1.0   \n",
      "2               0.0               1.0                  1.0   \n",
      "3               0.0               1.0                  1.0   \n",
      "4               1.0               0.0                  0.0   \n",
      "\n",
      "   transmission_Semi-Automatic  \n",
      "0                          0.0  \n",
      "1                          0.0  \n",
      "2                          0.0  \n",
      "3                          0.0  \n",
      "4                          0.0  \n",
      "First few rows of y:\n",
      "0     9704\n",
      "1    10535\n",
      "2     3774\n",
      "3    10072\n",
      "4    12092\n",
      "Name: price, dtype: int64\n",
      "Feature Importance:\n",
      "                       Feature  Coefficient\n",
      "0                  engine_size  1111.384775\n",
      "5           fuel_type_Electric   916.553447\n",
      "6             fuel_type_Hybrid   458.208903\n",
      "7             fuel_type_Petrol     0.029771\n",
      "3                  owner_count     0.003058\n",
      "1                        doors    -0.080128\n",
      "9  transmission_Semi-Automatic  -559.034926\n",
      "8          transmission_Manual  -748.355365\n",
      "2                      mileage -1592.545889\n",
      "4                      car_age -1717.622214\n",
      "Cross-Validation R² Scores: [0.99999997 0.99999999 0.99999998 0.99999989 0.99999996]\n",
      "Mean Cross-Validation R² Score: 0.9999999589525699\n"
     ]
    }
   ],
   "source": [
    "# Check the shape of the feature set and target variable\n",
    "print(f\"Shape of X_encoded_reduced: {X_encoded_reduced.shape}\")\n",
    "print(f\"Shape of y: {y.shape}\")\n",
    "\n",
    "# Inspect the target variable\n",
    "print(y.describe())\n",
    "\n",
    "# Check for data leakage\n",
    "print(\"First few rows of X_encoded_reduced:\")\n",
    "print(X_encoded_reduced.head())\n",
    "print(\"First few rows of y:\")\n",
    "print(y.head())\n",
    "\n",
    "# Inspect feature importance\n",
    "feature_importance = pd.DataFrame({\n",
    "    'Feature': X_encoded_reduced.columns,\n",
    "    'Coefficient': ridge_model.coef_\n",
    "})\n",
    "print(\"Feature Importance:\")\n",
    "print(feature_importance.sort_values(by='Coefficient', ascending=False))\n",
    "\n",
    "# Cross-validation\n",
    "from sklearn.model_selection import cross_val_score\n",
    "\n",
    "cv_scores = cross_val_score(ridge_model, X_scaled, y, cv=5, scoring='r2')\n",
    "print(f\"Cross-Validation R² Scores: {cv_scores}\")\n",
    "print(f\"Mean Cross-Validation R² Score: {cv_scores.mean()}\")"
   ]
  }
 ],
 "metadata": {
  "kernelspec": {
   "display_name": "Python (venv)",
   "language": "python",
   "name": "venv"
  },
  "language_info": {
   "codemirror_mode": {
    "name": "ipython",
    "version": 3
   },
   "file_extension": ".py",
   "mimetype": "text/x-python",
   "name": "python",
   "nbconvert_exporter": "python",
   "pygments_lexer": "ipython3",
   "version": "3.13.0"
  }
 },
 "nbformat": 4,
 "nbformat_minor": 2
}
