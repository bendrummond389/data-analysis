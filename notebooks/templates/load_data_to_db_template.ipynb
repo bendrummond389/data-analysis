{
 "cells": [
  {
   "cell_type": "markdown",
   "metadata": {},
   "source": [
    "## Set up"
   ]
  },
  {
   "cell_type": "markdown",
   "metadata": {},
   "source": [
    "### Imports"
   ]
  },
  {
   "cell_type": "code",
   "execution_count": null,
   "metadata": {},
   "outputs": [],
   "source": [
    "import logging\n",
    "import sys\n",
    "import os\n",
    "import pandas as pd\n",
    "\n",
    "\n",
    "# Add the parent directory to the path so we can import the modules\n",
    "# note that in /notebooks, use sys.path.append(os.path.abspath(\"..\"))\n",
    "sys.path.append(os.path.abspath(\"../..\"))\n",
    "\n",
    "from scripts.database import get_session, load_data_to_db\n",
    "from scripts.data_cleaning import clean_data\n",
    "from scripts.utils import load_config, setup_logging\n",
    "from orm_models import MortalityRate2014, ACS2017CountyData\n"
   ]
  },
  {
   "cell_type": "markdown",
   "metadata": {},
   "source": [
    "### Config"
   ]
  },
  {
   "cell_type": "code",
   "execution_count": 2,
   "metadata": {},
   "outputs": [
    {
     "name": "stderr",
     "output_type": "stream",
     "text": [
      "INFO:root:Starting the data analysis project.\n",
      "Starting the data analysis project.\n"
     ]
    }
   ],
   "source": [
    "try:\n",
    "    config = load_config('../config/config.yaml')\n",
    "    setup_logging(config['paths']['log_path'])\n",
    "    logging.info(\"Starting the data analysis project.\")\n",
    "except Exception as e:\n",
    "    logging.error(f\"Failed to load config or setup logging: {e}\")\n",
    "    raise"
   ]
  },
  {
   "cell_type": "markdown",
   "metadata": {},
   "source": [
    "### Create session"
   ]
  },
  {
   "cell_type": "code",
   "execution_count": 3,
   "metadata": {},
   "outputs": [
    {
     "name": "stderr",
     "output_type": "stream",
     "text": [
      "INFO:root:Database session created successfully.\n",
      "Database session created successfully.\n"
     ]
    }
   ],
   "source": [
    "try:\n",
    "    session = get_session()\n",
    "    logging.info(\"Database session created successfully.\")\n",
    "except Exception as e:\n",
    "    logging.error(f\"Failed to create database session: {e}\")\n",
    "    raise"
   ]
  },
  {
   "cell_type": "markdown",
   "metadata": {},
   "source": [
    "### Fetch data"
   ]
  },
  {
   "cell_type": "code",
   "execution_count": 4,
   "metadata": {},
   "outputs": [
    {
     "name": "stderr",
     "output_type": "stream",
     "text": [
      "INFO:scripts.data_cleaning:Data cleaned. Shape: (10000, 10)\n",
      "Data cleaned. Shape: (10000, 10)\n"
     ]
    },
    {
     "name": "stdout",
     "output_type": "stream",
     "text": [
      "        brand   model  year  engine_size fuel_type    transmission  mileage  \\\n",
      "0         Kia     Rio  2020          4.2    Diesel          Manual   289944   \n",
      "1   Chevrolet  Malibu  2012          2.0    Hybrid       Automatic     5356   \n",
      "2    Mercedes     GLA  2020          4.2    Diesel       Automatic   231440   \n",
      "3        Audi      Q5  2023          2.0  Electric          Manual   160971   \n",
      "4  Volkswagen    Golf  2003          2.6    Hybrid  Semi-Automatic   286618   \n",
      "\n",
      "   doors  owner_count  price  \n",
      "0      3            5   8501  \n",
      "1      2            3  12092  \n",
      "2      4            2  11171  \n",
      "3      2            1  11780  \n",
      "4      3            3   2867  \n"
     ]
    }
   ],
   "source": [
    "car_price_df = pd.read_csv('../data/raw/car_price_dataset.csv')\n",
    "\n",
    "cleaned_data = clean_data(car_price_df)\n",
    "print(cleaned_data.head())"
   ]
  },
  {
   "cell_type": "markdown",
   "metadata": {},
   "source": [
    "### Load data to database"
   ]
  },
  {
   "cell_type": "code",
   "execution_count": 5,
   "metadata": {},
   "outputs": [
    {
     "name": "stderr",
     "output_type": "stream",
     "text": [
      "INFO:scripts.database:Data successfully loaded into table: car_price_dataset\n",
      "Data successfully loaded into table: car_price_dataset\n"
     ]
    }
   ],
   "source": [
    "load_data_to_db(cleaned_data, table_name='car_price_dataset')"
   ]
  },
  {
   "cell_type": "markdown",
   "metadata": {},
   "source": [
    "### Exploration"
   ]
  }
 ],
 "metadata": {
  "kernelspec": {
   "display_name": "Python (venv)",
   "language": "python",
   "name": "venv"
  },
  "language_info": {
   "codemirror_mode": {
    "name": "ipython",
    "version": 3
   },
   "file_extension": ".py",
   "mimetype": "text/x-python",
   "name": "python",
   "nbconvert_exporter": "python",
   "pygments_lexer": "ipython3",
   "version": "3.13.0"
  }
 },
 "nbformat": 4,
 "nbformat_minor": 2
}
