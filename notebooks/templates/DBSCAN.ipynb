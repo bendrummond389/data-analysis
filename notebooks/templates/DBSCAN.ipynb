{
 "cells": [
  {
   "cell_type": "markdown",
   "metadata": {},
   "source": [
    "## Notes\n",
    "\n",
    "This is producing unsatisfactory results, but the method is valid and I will keep it as a reference."
   ]
  },
  {
   "cell_type": "markdown",
   "metadata": {},
   "source": [
    "### Imports"
   ]
  },
  {
   "cell_type": "code",
   "execution_count": null,
   "metadata": {},
   "outputs": [],
   "source": [
    "import logging\n",
    "import sys\n",
    "import os\n",
    "import pandas as pd\n",
    "\n",
    "sys.path.append(os.path.abspath(\"../..\"))\n",
    "\n",
    "from scripts import get_session\n",
    "from scripts import load_config, setup_logging\n",
    "from models import ACS2017CountyData, MortalityRate2014\n"
   ]
  },
  {
   "cell_type": "markdown",
   "metadata": {},
   "source": [
    "### Config and Logging Setup"
   ]
  },
  {
   "cell_type": "code",
   "execution_count": null,
   "metadata": {},
   "outputs": [],
   "source": [
    "try:\n",
    "    config = load_config()\n",
    "    setup_logging(config['paths']['log_path'])\n",
    "    logging.info(\"Starting the data analysis project.\")\n",
    "except Exception as e:\n",
    "    logging.error(f\"Failed to load config or setup logging: {e}\")\n",
    "    raise"
   ]
  },
  {
   "cell_type": "markdown",
   "metadata": {},
   "source": [
    "### Database Session"
   ]
  },
  {
   "cell_type": "code",
   "execution_count": null,
   "metadata": {},
   "outputs": [],
   "source": [
    "try:\n",
    "    session = get_session()\n",
    "    logging.info(\"Database session created successfully.\")\n",
    "except Exception as e:\n",
    "    logging.error(f\"Failed to create database session: {e}\")\n",
    "    raise"
   ]
  },
  {
   "cell_type": "markdown",
   "metadata": {},
   "source": [
    "### Query netflix Data"
   ]
  },
  {
   "cell_type": "code",
   "execution_count": null,
   "metadata": {},
   "outputs": [],
   "source": [
    "try:\n",
    "    data = session.query(\n",
    "        ACS2017CountyData.poverty,\n",
    "        MortalityRate2014.mortality_rate_2014_max\n",
    "        ).filter(ACS2017CountyData.fips_code == MortalityRate2014.fips_code)\\\n",
    "        .all()\n",
    "\n",
    "    \n",
    "    df = pd.DataFrame(data)\n",
    "    print(df.head())\n",
    "except Exception as e:\n",
    "    logging.error(f\"Failed to query show data: {e}\")\n",
    "    raise\n"
   ]
  },
  {
   "cell_type": "markdown",
   "metadata": {},
   "source": [
    "### Visualize Data"
   ]
  },
  {
   "cell_type": "code",
   "execution_count": null,
   "metadata": {},
   "outputs": [],
   "source": [
    "import seaborn as sns\n",
    "\n",
    "import matplotlib.pyplot as plt\n",
    "\n",
    "# Plotting poverty versus mortality rate\n",
    "plt.figure(figsize=(10, 6), dpi=300)\n",
    "sns.scatterplot(x='poverty', y='mortality_rate_2014_max', data=df)\n",
    "plt.title('Poverty vs Mortality Rate')\n",
    "plt.xlabel('Poverty Rate')\n",
    "plt.ylabel('Mortality Rate 2014 Max')\n",
    "plt.show()"
   ]
  },
  {
   "cell_type": "markdown",
   "metadata": {},
   "source": [
    "### Preprocess Data"
   ]
  },
  {
   "cell_type": "code",
   "execution_count": null,
   "metadata": {},
   "outputs": [],
   "source": [
    "from sklearn.cluster import KMeans\n",
    "from sklearn.preprocessing import StandardScaler\n",
    "\n",
    "df = df.dropna()\n",
    "\n",
    "scaler = StandardScaler()\n",
    "df_scaled = scaler.fit_transform(df)\n",
    "\n"
   ]
  },
  {
   "cell_type": "markdown",
   "metadata": {},
   "source": [
    "### Apply DBSCAN"
   ]
  },
  {
   "cell_type": "code",
   "execution_count": null,
   "metadata": {},
   "outputs": [],
   "source": [
    "from sklearn.cluster import DBSCAN\n",
    "\n",
    "\n",
    "dbscan = DBSCAN(eps=0.1, min_samples=5)\n",
    "clusters = dbscan.fit_predict(df_scaled)"
   ]
  },
  {
   "cell_type": "markdown",
   "metadata": {},
   "source": [
    "### Analyze Cluster Labels"
   ]
  },
  {
   "cell_type": "code",
   "execution_count": null,
   "metadata": {},
   "outputs": [],
   "source": [
    "df['Cluster'] = clusters\n",
    "print(df['Cluster'].value_counts())"
   ]
  },
  {
   "cell_type": "markdown",
   "metadata": {},
   "source": [
    "### Visualize DBSCAN Clusters"
   ]
  },
  {
   "cell_type": "code",
   "execution_count": null,
   "metadata": {},
   "outputs": [],
   "source": [
    "plt.figure(figsize=(10, 6), dpi=300)\n",
    "sns.scatterplot(x=df['poverty'], y=df['mortality_rate_2014_max'], hue=df['Cluster'], palette='colorblind', alpha=0.7)\n",
    "plt.title(\"DBSCAN Clustering of Poverty vs Mortality Rate\")\n",
    "plt.xlabel(\"Poverty Rate\")\n",
    "plt.ylabel(\"Mortality Rate 2014 Max\")\n",
    "plt.legend(title=\"Cluster\")\n",
    "plt.show()"
   ]
  }
 ],
 "metadata": {
  "kernelspec": {
   "display_name": "Python (venv)",
   "language": "python",
   "name": "venv"
  },
  "language_info": {
   "codemirror_mode": {
    "name": "ipython",
    "version": 3
   },
   "file_extension": ".py",
   "mimetype": "text/x-python",
   "name": "python",
   "nbconvert_exporter": "python",
   "pygments_lexer": "ipython3",
   "version": "3.13.0"
  }
 },
 "nbformat": 4,
 "nbformat_minor": 2
}
