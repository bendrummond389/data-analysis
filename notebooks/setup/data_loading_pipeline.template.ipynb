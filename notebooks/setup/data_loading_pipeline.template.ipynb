{
 "cells": [
  {
   "cell_type": "code",
   "execution_count": null,
   "metadata": {},
   "outputs": [],
   "source": [
    "import logging\n",
    "import pandas as pd\n",
    "from scripts import create_tables, insert_dataframe, with_db_session\n",
    "from scripts import load_config, setup_logging, clean_data\n",
    "from sqlalchemy.orm import Session\n",
    "from orm_models import NCAAMTourneySeeds, Base"
   ]
  },
  {
   "cell_type": "markdown",
   "metadata": {},
   "source": [
    "### Config"
   ]
  },
  {
   "cell_type": "code",
   "execution_count": null,
   "metadata": {},
   "outputs": [],
   "source": [
    "try:\n",
    "    config = load_config()\n",
    "    setup_logging(config[\"paths\"][\"log_path\"])\n",
    "    logging.info(\"Starting the data analysis project\")\n",
    "except Exception as e:\n",
    "    logging.error(f\"Initialization failed: {e}\")\n",
    "    raise"
   ]
  },
  {
   "cell_type": "markdown",
   "metadata": {},
   "source": [
    "### Data Loading Pipeline"
   ]
  },
  {
   "cell_type": "code",
   "execution_count": null,
   "metadata": {},
   "outputs": [],
   "source": [
    "@with_db_session\n",
    "def main_pipeline(session: Session):\n",
    "    \"\"\"Main ETL pipeline executed within a database session\"\"\"\n",
    "    try:\n",
    "        # 1. Create tables\n",
    "        create_tables(session, [NCAAMTourneySeeds])\n",
    "\n",
    "        # 2. Load and clean data\n",
    "        raw_data = pd.read_csv(\"../data/raw/march_madness/MNCAATourneySeeds.csv\")\n",
    "        cleaned_data = clean_data(raw_data)\n",
    "\n",
    "        # 3. Transformations\n",
    "        cleaned_data = cleaned_data.reset_index().rename(columns={\"index\": \"id\"})\n",
    "        cleaned_data[\"id\"] += 1  # Adjust for 1-based indexing\n",
    "        cleaned_data = cleaned_data.rename(columns={\"team_i_d\": \"team_id\"})\n",
    "        cleaned_data[\"team_id\"] = cleaned_data[\"team_id\"].astype(int)\n",
    "\n",
    "        # 4. Insert data\n",
    "        insert_dataframe(session, cleaned_data, NCAAMTourneySeeds)\n",
    "\n",
    "        # 5. Validation\n",
    "        logging.info(f\"Sample inserted data:\\n{cleaned_data.head()}\")\n",
    "\n",
    "    except Exception as e:\n",
    "        logging.error(f\"Pipeline failed: {e}\")\n",
    "        raise"
   ]
  },
  {
   "cell_type": "markdown",
   "metadata": {},
   "source": [
    "### Execute Pipeline"
   ]
  },
  {
   "cell_type": "code",
   "execution_count": null,
   "metadata": {},
   "outputs": [],
   "source": [
    "if __name__ == \"__main__\":\n",
    "    main_pipeline()"
   ]
  }
 ],
 "metadata": {
  "kernelspec": {
   "display_name": "data_analysis-R7KTjjXf",
   "language": "python",
   "name": "python3"
  },
  "language_info": {
   "codemirror_mode": {
    "name": "ipython",
    "version": 3
   },
   "file_extension": ".py",
   "mimetype": "text/x-python",
   "name": "python",
   "nbconvert_exporter": "python",
   "pygments_lexer": "ipython3",
   "version": "3.13.1"
  }
 },
 "nbformat": 4,
 "nbformat_minor": 2
}
