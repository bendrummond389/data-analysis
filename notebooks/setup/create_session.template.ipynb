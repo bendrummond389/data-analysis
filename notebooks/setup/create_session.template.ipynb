{
 "cells": [
  {
   "cell_type": "markdown",
   "metadata": {},
   "source": [
    "### Imports"
   ]
  },
  {
   "cell_type": "code",
   "execution_count": 3,
   "metadata": {},
   "outputs": [],
   "source": [
    "import logging\n",
    "import pandas as pd\n",
    "\n",
    "from src import load_config, setup_logging\n",
    "from orm import MortalityRate2014, ACS2017CountyData"
   ]
  },
  {
   "cell_type": "markdown",
   "metadata": {},
   "source": [
    "### Config"
   ]
  },
  {
   "cell_type": "code",
   "execution_count": null,
   "metadata": {},
   "outputs": [
    {
     "name": "stdout",
     "output_type": "stream",
     "text": [
      "{'db_config': {'host': 'localhost', 'port': 5432, 'database': 'analysis-example', 'user': 'postgres', 'password': 'mysecretpassword'}, 'paths': {'raw_data_path': 'data/raw/mortality_rate.csv', 'cleaned_data_path': 'data/cleaned/mortality_rate.csv', 'log_path': 'logs/project.log'}}\n"
     ]
    }
   ],
   "source": [
    "try:\n",
    "    config = load_config()\n",
    "    setup_logging(config[\"paths\"][\"log_path\"])\n",
    "    logging.info(\"Starting the data analysis project.\")\n",
    "except Exception as e:\n",
    "    logging.error(f\"Failed to load config or setup logging: {e}\")\n",
    "    raise"
   ]
  },
  {
   "cell_type": "markdown",
   "metadata": {},
   "source": [
    "### Create session"
   ]
  },
  {
   "cell_type": "code",
   "execution_count": 5,
   "metadata": {},
   "outputs": [
    {
     "name": "stderr",
     "output_type": "stream",
     "text": [
      "ERROR:root:Failed to create database session: name 'get_session' is not defined\n",
      "2025-02-23 04:32:29,133 - ERROR - Failed to create database session: name 'get_session' is not defined\n"
     ]
    },
    {
     "ename": "NameError",
     "evalue": "name 'get_session' is not defined",
     "output_type": "error",
     "traceback": [
      "\u001b[0;31m---------------------------------------------------------------------------\u001b[0m",
      "\u001b[0;31mNameError\u001b[0m                                 Traceback (most recent call last)",
      "Cell \u001b[0;32mIn[5], line 2\u001b[0m\n\u001b[1;32m      1\u001b[0m \u001b[38;5;28;01mtry\u001b[39;00m:\n\u001b[0;32m----> 2\u001b[0m     session \u001b[38;5;241m=\u001b[39m \u001b[43mget_session\u001b[49m()\n\u001b[1;32m      3\u001b[0m     logging\u001b[38;5;241m.\u001b[39minfo(\u001b[38;5;124m\"\u001b[39m\u001b[38;5;124mDatabase session created successfully.\u001b[39m\u001b[38;5;124m\"\u001b[39m)\n\u001b[1;32m      4\u001b[0m \u001b[38;5;28;01mexcept\u001b[39;00m \u001b[38;5;167;01mException\u001b[39;00m \u001b[38;5;28;01mas\u001b[39;00m e:\n",
      "\u001b[0;31mNameError\u001b[0m: name 'get_session' is not defined"
     ]
    }
   ],
   "source": [
    "try:\n",
    "    session = get_session()\n",
    "    logging.info(\"Database session created successfully.\")\n",
    "except Exception as e:\n",
    "    logging.error(f\"Failed to create database session: {e}\")\n",
    "    raise"
   ]
  },
  {
   "cell_type": "markdown",
   "metadata": {},
   "source": [
    "### Fetch data"
   ]
  },
  {
   "cell_type": "code",
   "execution_count": null,
   "metadata": {},
   "outputs": [],
   "source": [
    "try:\n",
    "    results = (\n",
    "        session.query(\n",
    "            ACS2017CountyData.poverty, MortalityRate2014.mortality_rate_2014_max\n",
    "        )\n",
    "        .filter(MortalityRate2014.fips_code == ACS2017CountyData.fips_code)\n",
    "        .all()\n",
    "    )\n",
    "    logging.info(\"Data fetched successfully.\")\n",
    "except Exception as e:\n",
    "    logging.error(f\"Failed to fetch data: {e}\")\n",
    "    raise"
   ]
  }
 ],
 "metadata": {
  "kernelspec": {
   "display_name": "data_analysis-R7KTjjXf",
   "language": "python",
   "name": "python3"
  },
  "language_info": {
   "codemirror_mode": {
    "name": "ipython",
    "version": 3
   },
   "file_extension": ".py",
   "mimetype": "text/x-python",
   "name": "python",
   "nbconvert_exporter": "python",
   "pygments_lexer": "ipython3",
   "version": "3.13.1"
  }
 },
 "nbformat": 4,
 "nbformat_minor": 2
}
