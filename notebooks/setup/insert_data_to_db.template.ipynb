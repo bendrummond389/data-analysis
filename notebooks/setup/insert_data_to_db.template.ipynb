{
 "cells": [
  {
   "cell_type": "markdown",
   "metadata": {},
   "source": [
    "## Set up"
   ]
  },
  {
   "cell_type": "markdown",
   "metadata": {},
   "source": [
    "### Imports"
   ]
  },
  {
   "cell_type": "code",
   "execution_count": null,
   "metadata": {},
   "outputs": [],
   "source": [
    "import logging\n",
    "import pandas as pd\n",
    "\n",
    "from scripts import get_session, load_data_to_db, load_config, setup_logging, clean_data"
   ]
  },
  {
   "cell_type": "markdown",
   "metadata": {},
   "source": [
    "### Config"
   ]
  },
  {
   "cell_type": "code",
   "execution_count": null,
   "metadata": {},
   "outputs": [],
   "source": [
    "try:\n",
    "    config = load_config()\n",
    "    setup_logging(config[\"paths\"][\"log_path\"])\n",
    "    logging.info(\"Starting the data analysis project.\")\n",
    "except Exception as e:\n",
    "    logging.error(f\"Failed to load config or setup logging: {e}\")\n",
    "    raise"
   ]
  },
  {
   "cell_type": "markdown",
   "metadata": {},
   "source": [
    "### Create session"
   ]
  },
  {
   "cell_type": "code",
   "execution_count": null,
   "metadata": {},
   "outputs": [],
   "source": [
    "try:\n",
    "    session = get_session()\n",
    "    logging.info(\"Database session created successfully.\")\n",
    "except Exception as e:\n",
    "    logging.error(f\"Failed to create database session: {e}\")\n",
    "    raise"
   ]
  },
  {
   "cell_type": "markdown",
   "metadata": {},
   "source": [
    "### Fetch data"
   ]
  },
  {
   "cell_type": "code",
   "execution_count": null,
   "metadata": {},
   "outputs": [],
   "source": [
    "netflix_df = pd.read_csv(\"../../data/raw/netflix_catalog.csv\")\n",
    "\n",
    "netflix_df.fillna(\"\", inplace=True)\n",
    "netflix_df[\"text\"] = (\n",
    "    netflix_df[\"title\"]\n",
    "    + \" \"\n",
    "    + netflix_df[\"cast\"]\n",
    "    + \" \"\n",
    "    + netflix_df[\"country\"]\n",
    "    + \" \"\n",
    "    + netflix_df[\"listed_in\"]\n",
    "    + \" \"\n",
    "    + netflix_df[\"description\"]\n",
    ")\n",
    "\n",
    "cleaned_data = clean_data(netflix_df)\n",
    "print(cleaned_data.head())"
   ]
  },
  {
   "cell_type": "markdown",
   "metadata": {},
   "source": [
    "### Load data to database"
   ]
  },
  {
   "cell_type": "code",
   "execution_count": null,
   "metadata": {},
   "outputs": [],
   "source": [
    "load_data_to_db(cleaned_data, table_name=\"netflix_catalog\")"
   ]
  }
 ],
 "metadata": {
  "kernelspec": {
   "display_name": "Python (venv)",
   "language": "python",
   "name": "venv"
  },
  "language_info": {
   "codemirror_mode": {
    "name": "ipython",
    "version": 3
   },
   "file_extension": ".py",
   "mimetype": "text/x-python",
   "name": "python",
   "nbconvert_exporter": "python",
   "pygments_lexer": "ipython3",
   "version": "3.13.0"
  }
 },
 "nbformat": 4,
 "nbformat_minor": 2
}
